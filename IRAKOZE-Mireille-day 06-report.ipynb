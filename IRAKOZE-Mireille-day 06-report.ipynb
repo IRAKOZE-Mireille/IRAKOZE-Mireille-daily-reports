{
 "cells": [
  {
   "cell_type": "markdown",
   "id": "a253ea40",
   "metadata": {},
   "source": [
    "### Flow control"
   ]
  },
  {
   "cell_type": "code",
   "execution_count": null,
   "id": "f7f5a8bc",
   "metadata": {},
   "outputs": [],
   "source": []
  },
  {
   "cell_type": "code",
   "execution_count": 2,
   "id": "46d95799",
   "metadata": {},
   "outputs": [
    {
     "name": "stdout",
     "output_type": "stream",
     "text": [
      "27\n"
     ]
    }
   ],
   "source": [
    "a = 27\n",
    "print(a)\n"
   ]
  },
  {
   "cell_type": "markdown",
   "id": "4700c94b",
   "metadata": {},
   "source": [
    "if .......:\n",
    "instruction 1........"
   ]
  },
  {
   "cell_type": "code",
   "execution_count": 7,
   "id": "985cc4bf",
   "metadata": {},
   "outputs": [
    {
     "name": "stdout",
     "output_type": "stream",
     "text": [
      "27\n",
      "we do not have it\n"
     ]
    }
   ],
   "source": [
    "a = 27\n",
    "print(a)\n",
    "\n",
    "if (a > 29):\n",
    "    print(\"we have it\")\n",
    "else: \n",
    "     print(\"we do not have it\" )"
   ]
  },
  {
   "cell_type": "markdown",
   "id": "15ad8778",
   "metadata": {},
   "source": [
    "if ... elif ... else"
   ]
  },
  {
   "cell_type": "code",
   "execution_count": 8,
   "id": "15fe8612",
   "metadata": {},
   "outputs": [
    {
     "name": "stdout",
     "output_type": "stream",
     "text": [
      "x is zero\n"
     ]
    }
   ],
   "source": [
    "x = 0\n",
    "if x > 0:\n",
    "    print(\"x is positive\")\n",
    "elif x < 0:\n",
    "    print(\"x is negative\")\n",
    "else:\n",
    "    print(\"x is zero\")\n",
    "    "
   ]
  },
  {
   "cell_type": "code",
   "execution_count": 1,
   "id": "acdf3d4e",
   "metadata": {},
   "outputs": [
    {
     "name": "stdout",
     "output_type": "stream",
     "text": [
      "a is greter than b\n",
      " the dif is .....\n"
     ]
    }
   ],
   "source": [
    "a = 15\n",
    "b = 10\n",
    "if a > b:\n",
    "    print(\"a is greter than b\")\n",
    "    if (a - b > 5):\n",
    "        print(\"the diff is .....\")\n",
    "    \n",
    "    else:\n",
    "        print(\" the dif is .....\")\n",
    "\n",
    "else:\n",
    "    print (\"b is greater than a \")\n"
   ]
  },
  {
   "cell_type": "code",
   "execution_count": 2,
   "id": "567a022f",
   "metadata": {},
   "outputs": [
    {
     "ename": "NameError",
     "evalue": "name 'c' is not defined",
     "output_type": "error",
     "traceback": [
      "\u001b[1;31m---------------------------------------------------------------------------\u001b[0m",
      "\u001b[1;31mNameError\u001b[0m                                 Traceback (most recent call last)",
      "Cell \u001b[1;32mIn[2], line 3\u001b[0m\n\u001b[0;32m      1\u001b[0m a \u001b[38;5;241m=\u001b[39m \u001b[38;5;28minput\u001b[39m(a)\n\u001b[0;32m      2\u001b[0m b \u001b[38;5;241m=\u001b[39m \u001b[38;5;28minput\u001b[39m(b)\n\u001b[1;32m----> 3\u001b[0m c \u001b[38;5;241m=\u001b[39m \u001b[38;5;28minput\u001b[39m(c)\n\u001b[0;32m      5\u001b[0m \u001b[38;5;28;01mif\u001b[39;00m a \u001b[38;5;241m==\u001b[39m \u001b[38;5;241m0\u001b[39m:\n\u001b[0;32m      6\u001b[0m     \u001b[38;5;28mprint\u001b[39m(\u001b[38;5;124m\"\u001b[39m\u001b[38;5;124mNot a quadratic equation\u001b[39m\u001b[38;5;124m\"\u001b[39m)\n",
      "\u001b[1;31mNameError\u001b[0m: name 'c' is not defined"
     ]
    }
   ],
   "source": [
    "  \n",
    "\n",
    "a = input(a)\n",
    "b = input(b)\n",
    "c = input(c)\n",
    "\n",
    "if a == 0:\n",
    "    print(\"Not a quadratic equation\")\n",
    "else:\n",
    "    D = b**2 - 4*a*c   \n",
    "    \n",
    "    if D > 0:\n",
    "        x1 = (-b + math.sqrt(D)) / (2*a)\n",
    "        x2 = (-b - math.sqrt(D)) / (2*a)\n",
    "        print(\"Two real roots:\", x1, \"and\", x2)\n",
    "    elif D == 0:\n",
    "        x = -b / (2*a)\n",
    "        print(\"One real root:\", x)\n",
    "    else:\n",
    "        print(\"No real roots\")\n"
   ]
  },
  {
   "cell_type": "code",
   "execution_count": 3,
   "id": "da0db315",
   "metadata": {},
   "outputs": [
    {
     "name": "stdout",
     "output_type": "stream",
     "text": [
      "the value of x is  1\n",
      "the value of x is  2\n",
      "the value of x is  3\n",
      "the value of x is  4\n",
      "the value of x is  5\n",
      "the value of x is  6\n",
      "the value of x is  7\n",
      "the value of x is  8\n",
      "the value of x is  9\n"
     ]
    }
   ],
   "source": [
    "i = 1\n",
    "while(i < 10):\n",
    "  print(\"the value of x is \",i)\n",
    "  i = i + 1"
   ]
  },
  {
   "cell_type": "code",
   "execution_count": 4,
   "id": "6fc9e651",
   "metadata": {},
   "outputs": [
    {
     "name": "stdout",
     "output_type": "stream",
     "text": [
      "0\n",
      "1\n",
      "2\n",
      "3\n",
      "4\n",
      "5\n",
      "6\n",
      "7\n",
      "8\n",
      "9\n"
     ]
    }
   ],
   "source": [
    "n = 10\n",
    "for i in range(n):\n",
    "    print(i)\n"
   ]
  },
  {
   "cell_type": "code",
   "execution_count": 5,
   "id": "9e53573f",
   "metadata": {},
   "outputs": [
    {
     "name": "stdout",
     "output_type": "stream",
     "text": [
      "try again\n",
      "we found it\n",
      "try again\n",
      "try again\n"
     ]
    }
   ],
   "source": [
    "list_fr = [3, 5, 'hello' , 98]\n",
    "for i in list_fr:\n",
    "    if i == 5:\n",
    "        print(\"we found it\")\n",
    "    else:\n",
    "        print(\"try again\")"
   ]
  },
  {
   "cell_type": "code",
   "execution_count": 6,
   "id": "eb6b7bc6",
   "metadata": {},
   "outputs": [
    {
     "name": "stdout",
     "output_type": "stream",
     "text": [
      "The letter H is a consonant\n",
      "The letter e is a vower\n",
      "The letter l is a consonant\n",
      "The letter l is a consonant\n",
      "The letter o is a vower\n",
      "The letter , is a consonant\n",
      "This is likely a space\n",
      "The letter w is a consonant\n",
      "The letter o is a vower\n",
      "The letter r is a consonant\n",
      "The letter l is a consonant\n",
      "The letter d is a consonant\n"
     ]
    }
   ],
   "source": [
    "sentence = \"Hello, world\"\n",
    "for letter in sentence:\n",
    "    if letter in \"AEIOUaeiou\":\n",
    "      print(\"The letter\", letter, \"is a vower\")\n",
    "    elif letter == \" \":\n",
    "      print(\"This is likely a space\")\n",
    "    else:\n",
    "      print(\"The letter\", letter, \"is a consonant\")"
   ]
  },
  {
   "cell_type": "markdown",
   "id": "387a64b5",
   "metadata": {},
   "source": [
    "### Function"
   ]
  },
  {
   "cell_type": "code",
   "execution_count": null,
   "id": "5f58ced5",
   "metadata": {},
   "outputs": [],
   "source": []
  }
 ],
 "metadata": {
  "kernelspec": {
   "display_name": "base",
   "language": "python",
   "name": "python3"
  },
  "language_info": {
   "codemirror_mode": {
    "name": "ipython",
    "version": 3
   },
   "file_extension": ".py",
   "mimetype": "text/x-python",
   "name": "python",
   "nbconvert_exporter": "python",
   "pygments_lexer": "ipython3",
   "version": "3.13.5"
  }
 },
 "nbformat": 4,
 "nbformat_minor": 5
}
